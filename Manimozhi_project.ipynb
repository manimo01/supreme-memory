{
  "nbformat": 4,
  "nbformat_minor": 0,
  "metadata": {
    "colab": {
      "name": "Manimozhi_project.ipynb",
      "provenance": [],
      "collapsed_sections": [],
      "toc_visible": true
    },
    "kernelspec": {
      "name": "python3",
      "display_name": "Python 3"
    },
    "language_info": {
      "name": "python"
    }
  },
  "cells": [
    {
      "cell_type": "code",
      "metadata": {
        "colab": {
          "base_uri": "https://localhost:8080/"
        },
        "id": "VatgiRxrNSWU",
        "outputId": "2b16283a-dd37-4e98-8dfd-8853a47cb0f4"
      },
      "source": [
        "import hashlib\n",
        "def generate_hash(text):\n",
        "   hash_object = hashlib. md5(text. encode())\n",
        "   md5_hash = hash_object. hexdigest()\n",
        "   print(md5_hash)\n",
        "txt=input(\"Enter the text: \")\n",
        "generate_hash(txt) "
      ],
      "execution_count": null,
      "outputs": [
        {
          "output_type": "stream",
          "text": [
            "Enter the text: manimozhi\n",
            "ef83bbcf9d20009bc62df4b5802f9fbd\n"
          ],
          "name": "stdout"
        }
      ]
    }
  ]
}